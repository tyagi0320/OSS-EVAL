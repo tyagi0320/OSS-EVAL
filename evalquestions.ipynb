{
 "cells": [
  {
   "cell_type": "code",
   "execution_count": null,
   "id": "aba2ba51",
   "metadata": {},
   "outputs": [],
   "source": []
  },
  {
   "cell_type": "code",
   "execution_count": 1,
   "id": "c316bf00",
   "metadata": {},
   "outputs": [
    {
     "data": {
      "text/plain": [
       "{'user1': 123, 'user2': 456}"
      ]
     },
     "execution_count": 1,
     "metadata": {},
     "output_type": "execute_result"
    }
   ],
   "source": [
    "\n"
   ]
  },
  {
   "cell_type": "code",
   "execution_count": 41,
   "id": "12a1ec51",
   "metadata": {},
   "outputs": [
    {
     "name": "stdout",
     "output_type": "stream",
     "text": [
      "Contact book: \n",
      "Enter name: hemant\n",
      "Enter phone: 887987543\n",
      "Enter email: qwer@gmail.com\n"
     ]
    }
   ],
   "source": [
    "contactbook={name: [{\"mobile\":phn},{\"emailid\":\"email\"}]}\n",
    "print(\"Contact book: \")\n",
    "name=input(\"Enter name: \")\n",
    "phn=int(input(\"Enter phone: \"))\n",
    "email=input(\"Enter email: \")\n",
    "\n",
    "def add(name,phn,email):\n",
    "    contactbook[name]=[phn,email]\n",
    "\n",
    "def rmv(name):\n",
    "    input(\"Enter contact to remove: \")\n",
    "    contactbook[name]=contactbook.remove(name.phn,name.email)\n",
    "    \n",
    "def listcontact(contactbook):\n",
    "    for name in contactbook:\n",
    "        print(contactbook[name])\n",
    "\n",
    "def find():\n",
    "    input(\"Search contact by name: \")\n",
    "    contactbook=contactbook.get(name)"
   ]
  },
  {
   "cell_type": "code",
   "execution_count": 44,
   "id": "1e404989",
   "metadata": {},
   "outputs": [
    {
     "data": {
      "text/plain": [
       "{'user1name': [{'mobile': 1234567890}, {'emailid': 'email'}]}"
      ]
     },
     "execution_count": 44,
     "metadata": {},
     "output_type": "execute_result"
    }
   ],
   "source": [
    "contactbook\n",
    "\n"
   ]
  },
  {
   "cell_type": "code",
   "execution_count": 38,
   "id": "ba41e57f",
   "metadata": {},
   "outputs": [
    {
     "ename": "NameError",
     "evalue": "name 'User2' is not defined",
     "output_type": "error",
     "traceback": [
      "\u001b[1;31m---------------------------------------------------------------------------\u001b[0m",
      "\u001b[1;31mNameError\u001b[0m                                 Traceback (most recent call last)",
      "Cell \u001b[1;32mIn[38], line 1\u001b[0m\n\u001b[1;32m----> 1\u001b[0m rmv(User2)\n",
      "\u001b[1;31mNameError\u001b[0m: name 'User2' is not defined"
     ]
    }
   ],
   "source": [
    "rmv(User2)k"
   ]
  },
  {
   "cell_type": "code",
   "execution_count": null,
   "id": "b2dceb98",
   "metadata": {},
   "outputs": [],
   "source": []
  }
 ],
 "metadata": {
  "kernelspec": {
   "display_name": "Python 3 (ipykernel)",
   "language": "python",
   "name": "python3"
  },
  "language_info": {
   "codemirror_mode": {
    "name": "ipython",
    "version": 3
   },
   "file_extension": ".py",
   "mimetype": "text/x-python",
   "name": "python",
   "nbconvert_exporter": "python",
   "pygments_lexer": "ipython3",
   "version": "3.11.5"
  }
 },
 "nbformat": 4,
 "nbformat_minor": 5
}
